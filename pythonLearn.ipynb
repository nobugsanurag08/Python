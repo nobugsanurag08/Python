{
 "cells": [
  {
   "cell_type": "code",
   "execution_count": 34,
   "id": "20e0c1d0",
   "metadata": {},
   "outputs": [
    {
     "name": "stdout",
     "output_type": "stream",
     "text": [
      "17\n"
     ]
    }
   ],
   "source": [
    "n=8\n",
    "m=9\n",
    "print(n+m)"
   ]
  },
  {
   "cell_type": "code",
   "execution_count": 35,
   "id": "6bffd534",
   "metadata": {},
   "outputs": [
    {
     "name": "stdout",
     "output_type": "stream",
     "text": [
      "Enter your first number 29\n",
      "Enter second number 20\n",
      "49\n"
     ]
    }
   ],
   "source": [
    "n=int(input(\"Enter your first number \"))\n",
    "m=int(input(\"Enter second number \"))\n",
    "print (n+m)"
   ]
  },
  {
   "cell_type": "code",
   "execution_count": 36,
   "id": "c7236fad",
   "metadata": {},
   "outputs": [
    {
     "name": "stdout",
     "output_type": "stream",
     "text": [
      "Entered number n and m are not equal\n"
     ]
    }
   ],
   "source": [
    "if(n==m):\n",
    "    print(\"Entered number n and m are equal\")\n",
    "elif(n!=m):\n",
    "    print(\"Entered number n and m are not equal\")"
   ]
  },
  {
   "cell_type": "code",
   "execution_count": 37,
   "id": "e5c5c857",
   "metadata": {},
   "outputs": [
    {
     "name": "stdout",
     "output_type": "stream",
     "text": [
      "20 <class 'int'>\n",
      "<class 'int'>\n",
      "3.0\n",
      "10\n"
     ]
    }
   ],
   "source": [
    "p=10\n",
    "q=10\n",
    "print(p+q,type(p+q))\n",
    "print(type(p))\n",
    "print(float(3))\n",
    "_underscore=10;\n",
    "print(_underscore)"
   ]
  },
  {
   "cell_type": "code",
   "execution_count": 38,
   "id": "4d1aa6e8",
   "metadata": {},
   "outputs": [
    {
     "name": "stdout",
     "output_type": "stream",
     "text": [
      "Apple Banana Orange\n"
     ]
    }
   ],
   "source": [
    "# If you have a collection of values in a list, tuple etc. Python allows you to \n",
    "# extract the values into variables. This is called unpacking.\n",
    "\n",
    "fruits=['Apple','Banana','Orange']\n",
    "x,y,z=fruits\n",
    "print(x,y,z)\n",
    "\n"
   ]
  },
  {
   "cell_type": "code",
   "execution_count": 142,
   "id": "e030b73e",
   "metadata": {},
   "outputs": [
    {
     "name": "stdout",
     "output_type": "stream",
     "text": [
      "Namaste Anurag\n",
      "Good Morning Anurag\n",
      "91\n"
     ]
    }
   ],
   "source": [
    "# greet='Good Morning Anurag'  #we can use this global variable inside the function and act like a global variable\n",
    "def greeting():\n",
    "    global greet\n",
    "    greet='Good Morning Anurag'\n",
    "    time=4\n",
    "    if(time==41):\n",
    "        print(\"Good Evening Anurag\")\n",
    "    else:\n",
    "        print('Namaste Anurag')\n",
    "greeting()\n",
    "print(greet)\n",
    "x='1111111111111111111111111111111199999999999999999999999999999999999999999999999999999999999'\n",
    "print(len(x))\n"
   ]
  },
  {
   "cell_type": "code",
   "execution_count": 53,
   "id": "dbb510a8",
   "metadata": {},
   "outputs": [
    {
     "name": "stdout",
     "output_type": "stream",
     "text": [
      "80.8\n",
      "<class 'int'>\n",
      "<class 'float'>\n",
      "<class 'complex'>\n",
      "<class 'float'>\n",
      "<class 'int'>\n",
      "<class 'complex'>\n"
     ]
    }
   ],
   "source": [
    "# conversion of variables from int float complex\n",
    "x=70\n",
    "y=10.8\n",
    "z=1+5j\n",
    "print(x+y)\n",
    "print(type(x))\n",
    "print(type(y))\n",
    "print(type(z))\n",
    "x=float(x)\n",
    "y=int(y)\n",
    "c=complex(x)\n",
    "# z=int(z)\n",
    "print(type(x))\n",
    "print(type(y))\n",
    "print(type(c))\n"
   ]
  },
  {
   "cell_type": "code",
   "execution_count": 143,
   "id": "19e858a6",
   "metadata": {},
   "outputs": [
    {
     "name": "stdout",
     "output_type": "stream",
     "text": [
      "3\n"
     ]
    }
   ],
   "source": [
    "import random\n",
    "print(random.randrange(1,6))"
   ]
  },
  {
   "cell_type": "code",
   "execution_count": 52,
   "id": "99419acd",
   "metadata": {},
   "outputs": [
    {
     "name": "stdout",
     "output_type": "stream",
     "text": [
      "Anursg Kumsr Gsutsm\n",
      "Anurag Kumar Gautam\n"
     ]
    }
   ],
   "source": [
    "#String Method\n",
    "\n",
    "str1=\"Anurag Kumar Gautam\"\n",
    "length=len(str1)\n",
    "# print(str1.capitalize())\n",
    "# str3=str1\n",
    "# str1.replace(\"a\",\"s\")\n",
    "# print(str1[7:])\n",
    "# l=[\"anurag\",\"kumar\"]\n",
    "# r=l.copy()\n",
    "# l[0]='Gautam'\n",
    "# print(r)\n",
    "# str3=str1\n",
    "print(str1.replace('a','s'))\n",
    "print(str1)\n",
    "# print(str3,\"replace\")\n",
    "# print(str1.strip())\n",
    "# print(str1.split())\n",
    "# print(str1.isalnum())\n",
    "# str2=str1.upper()\n",
    "# print(str1.index('Kumar'))\n",
    "# print(str2)\n",
    "# print(length)"
   ]
  },
  {
   "cell_type": "code",
   "execution_count": 1,
   "id": "11c0f495",
   "metadata": {},
   "outputs": [
    {
     "name": "stdout",
     "output_type": "stream",
     "text": [
      "['Kumar', 'Gautam1', 'Gautam', 'Anurag']\n"
     ]
    }
   ],
   "source": [
    "#List --> collection which is ordered changeble and can contain duplicate\n",
    "listItem=[\"Anurag\",\"Kumar\",\"Gautam\",\"Gautam1\"]\n",
    "# print(listItem)\n",
    "listItem2=list((\"Vipul\",\"Kumar\",\"Gond\"))\n",
    "# listItem2.append(45)\n",
    "# listItem2.pop(\"Vipul\")\n",
    "# listItem.extend(listItem2)\n",
    "listItem.sort()\n",
    "listItem.reverse()\n",
    "print(listItem)\n",
    "\n",
    "# listItem3=listItem              it contain the refrence of listItem -->listItem3\n",
    "# listItem.append(\"Aadi\")\n",
    "listItem3=listItem.copy()         #it create a new list and doesnot contain the refrence of other one\n",
    "listItem.append(\"Aditya\")\n",
    "listItem.insert(6,\"Gautam\")\n",
    "# print(listItem3)\n",
    "# print(listItem,type(listItem))\n",
    "# print(listItem.count(\"Gautam\"),type(listItem))\n",
    "\n"
   ]
  },
  {
   "cell_type": "code",
   "execution_count": 95,
   "id": "9e7b8716",
   "metadata": {},
   "outputs": [
    {
     "name": "stdout",
     "output_type": "stream",
     "text": [
      "('anup', 'Mishra')\n"
     ]
    }
   ],
   "source": [
    " #tuple collection which is ordered and not contain duplicate and not changeable \n",
    "tuple1=(\"anup\",)\n",
    "listfromtuple=list(tuple1)\n",
    "listfromtuple.append(\"Mishra\")\n",
    "# tuple1.clear()\n",
    "tuple1=tuple(listfromtuple)\n",
    "print(tuple1)"
   ]
  },
  {
   "cell_type": "code",
   "execution_count": 107,
   "id": "ede4cbbe",
   "metadata": {},
   "outputs": [
    {
     "name": "stdout",
     "output_type": "stream",
     "text": [
      "5\n",
      "{'manglacharan', 'harry porter', 'Manglacharan', 'sorry u r not my type', 'halfgirlfriend'}\n"
     ]
    }
   ],
   "source": [
    "#set collection which is unordered and unchangebale and also does not contain duplicate .\n",
    "set1={\"halfgirlfriend\",\"sorry u r not my type\",\"Manglacharan\",\"manglacharan\"}\n",
    "set1.update([\"thinketh\"])\n",
    "set1.add(\"harry porter\")\n",
    "set1.remove(\"thinketh\")\n",
    "print(len(set1))\n",
    "print({x for x in set1})\n"
   ]
  },
  {
   "cell_type": "code",
   "execution_count": 126,
   "id": "bfa7eef6",
   "metadata": {},
   "outputs": [
    {
     "name": "stdout",
     "output_type": "stream",
     "text": [
      "dict_items([('name', 'Anurag'), ('age', 22), ('role', 'software engineer'), ('experience', 1)])\n",
      "dict_keys(['name', 'age', 'role', 'experience'])\n",
      "dict_values(['Anurag', 22, 'software engineer', 1])\n"
     ]
    }
   ],
   "source": [
    "#dictionary collection which is ordered changable and does not contain duplicate.\n",
    "dict1={\n",
    "       \"name\":\"Anurag\",\n",
    "       \"age\":22,\n",
    "       \"role\":\"software engineer\"\n",
    "      }\n",
    "dict1.update({\"experience\":1})\n",
    "dict2=dict1.items()\n",
    "dict3=dict1.keys()\n",
    "dict4=dict1.values()\n",
    "# dict1.pop(\"age\")\n",
    "print(dict2)\n",
    "print(dict3)\n",
    "print(dict4)\n",
    "\n"
   ]
  },
  {
   "cell_type": "markdown",
   "id": "522f36a5",
   "metadata": {},
   "source": [
    "Make a dictionary from two loop\n"
   ]
  },
  {
   "cell_type": "code",
   "execution_count": 35,
   "id": "7c26fa85",
   "metadata": {},
   "outputs": [
    {
     "name": "stdout",
     "output_type": "stream",
     "text": [
      "{'Anurag': 22, 'Adarsh': 23, 'Auroshis': 22}\n"
     ]
    }
   ],
   "source": [
    "list1=['Anurag','Adarsh',\"Auroshis\"]\n",
    "list2=[22,23,22]\n",
    "combined_dict={name:age for name,age in zip(list1,list2)}\n",
    "print(combined_dict)"
   ]
  },
  {
   "cell_type": "code",
   "execution_count": 132,
   "id": "4dc7eaeb",
   "metadata": {},
   "outputs": [
    {
     "name": "stdout",
     "output_type": "stream",
     "text": [
      "25\n"
     ]
    }
   ],
   "source": [
    "#fuctions\n",
    "\n",
    "def multiply(number):\n",
    "    return number*5\n",
    "#     pass\n",
    "\n",
    "print(multiply(5))"
   ]
  },
  {
   "cell_type": "markdown",
   "id": "18e20357",
   "metadata": {},
   "source": [
    "# # OOPS"
   ]
  },
  {
   "cell_type": "code",
   "execution_count": 149,
   "id": "5bc6c6e3",
   "metadata": {},
   "outputs": [
    {
     "name": "stdout",
     "output_type": "stream",
     "text": [
      "Anurag\n",
      "my name is Anurag and my age is 22\n"
     ]
    }
   ],
   "source": [
    "#object -> object is a data field with unique state and behaviour\n",
    "#class -> class is a blueprint for creating objects\n",
    "\n",
    "class Intro:\n",
    "    def __init__(self,name,age):   #self-> it is indicating the current instance of the class and used to aceess the variables of the class,it does not have to named as self\n",
    "        self.name=name\n",
    "        self.age=age\n",
    "    def introduction(self):\n",
    "        print(\"my name is\",self.name,\"and my age is\",self.age)\n",
    "obj1=Intro(\"Anurag\",22)\n",
    "# del obj1.age          #deletes the object property age.\n",
    "# del obj1              #deletes the object\n",
    "print(obj1.name)\n",
    "obj1.introduction()"
   ]
  },
  {
   "cell_type": "code",
   "execution_count": 2,
   "id": "4c393965",
   "metadata": {},
   "outputs": [
    {
     "name": "stdout",
     "output_type": "stream",
     "text": [
      "My Name is Abhay Verma my passing year is 2019 Now i am currently pursuing MBA from IIsc\n"
     ]
    }
   ],
   "source": [
    "#inheritance -> is a property in which one class carry or inherits all the property and methods of another class or parent class.\n",
    "#parent class -> a class which being inherited\n",
    "#child class -> a class which will inherit the parent class.\n",
    "class College:\n",
    "    def __init__(self,clgname):\n",
    "        self.collegeName=clgname\n",
    "class University:\n",
    "    def __init__(self,fname,lname):\n",
    "        self.firstName=fname\n",
    "        self.lastName=lname\n",
    "    def printName(self):\n",
    "        print(\"My Name is\",self.firstName+\" \"+self.lastName)\n",
    "\n",
    "\n",
    "class Person(University,College):\n",
    "    def __init__(self,fname,lname,year,clgName):\n",
    "        University.__init__(self,fname,lname)\n",
    "        College.__init__(self,clgName)\n",
    "        self.passingyear=year\n",
    "    def edudetails(self):\n",
    "        print(\"My Name is \"+self.firstName+\" \"+self.lastName+\" \"+\"my passing year is\",self.passingyear,\"Now i am currently pursuing MBA from \"+self.collegeName)\n",
    "        \n",
    "    \n",
    "# uni=University(\"Anurag\",\"Kohli\")\n",
    "# uni.printName()  \n",
    "p=Person(\"Abhay\",\"Verma\",2019,\"IIsc\");\n",
    "p.edudetails()\n"
   ]
  },
  {
   "cell_type": "code",
   "execution_count": 33,
   "id": "8dbc35ab",
   "metadata": {},
   "outputs": [
    {
     "name": "stdout",
     "output_type": "stream",
     "text": [
      "5 14\n"
     ]
    }
   ],
   "source": [
    "#polimorphism ->\n",
    "\n",
    "#opertor overloading---> operator overloading is a kind of compile time polymorphism which allow to define custom behaivour of operator \n",
    "# it means you can use this operator with your custom classes or objects.\n",
    "\n",
    "# class Add:\n",
    "#     def __init__(self,x,y):\n",
    "#         self.x=x\n",
    "#         self.y=y\n",
    "#     def __add__(self,other):\n",
    "#         return Add((self.x + other.x),(self.y + other.y))\n",
    "# a=Add(7,8)\n",
    "# b=Add(6,8)\n",
    "# # print(a+b)\n",
    "# c=a+b\n",
    "# print(c.x,c.y)\n",
    "\n",
    "class Subtract:\n",
    "    def __init__(self,x,y):\n",
    "        self.x=x\n",
    "        self.y=y\n",
    "    def __sub__(self,other):\n",
    "        return Subtract((self.x-other.x),(self.y-other.y))\n",
    "sub1=Subtract(10,19)\n",
    "sub2=Subtract(5,5)\n",
    "sub3=sub1-sub2\n",
    "print(sub3.x,sub3.y)\n",
    "  \n",
    "    \n",
    "#Composition "
   ]
  },
  {
   "cell_type": "code",
   "execution_count": 34,
   "id": "90e39365",
   "metadata": {},
   "outputs": [
    {
     "name": "stdout",
     "output_type": "stream",
     "text": [
      "Student\n",
      "Student\n"
     ]
    }
   ],
   "source": [
    "#Encapsulation -> encapsulation is a key feature in oops which hides the internal details of the class from \n",
    "#outside world\n",
    "\n",
    "#we can achive this by making attributes and method private--> prifixing thier names use two underscores (__xyz)\n",
    "\n",
    "class University:\n",
    "    def __init__(self,role):\n",
    "        self.__role=role\n",
    "    def get_role(self):\n",
    "        return self.__role\n",
    "uniS=University(\"Student\")\n",
    "print(uniS.get_role())\n",
    "# print(uniS.role)  # ---AttributeError 'University' object has no attribute 'role'\n",
    "# if you want to access that then you have to call that like <instance>._<class name><attribute_name>\n",
    "print(uniS._University__role)\n",
    "\n",
    "# uniF=University(\"Faculty\")\n",
    "\n",
    "\n",
    "#\n",
    "\n",
    "\n",
    "\n",
    "\n",
    "\n",
    "\n",
    "\n",
    "\n",
    "\n"
   ]
  },
  {
   "cell_type": "markdown",
   "id": "d8e517c8",
   "metadata": {},
   "source": [
    "\n"
   ]
  },
  {
   "cell_type": "code",
   "execution_count": null,
   "id": "576d6ea4",
   "metadata": {},
   "outputs": [],
   "source": []
  },
  {
   "cell_type": "code",
   "execution_count": null,
   "id": "fbf33738",
   "metadata": {},
   "outputs": [],
   "source": [
    "#Decorator In Python \n"
   ]
  },
  {
   "cell_type": "code",
   "execution_count": 62,
   "id": "957dc86b",
   "metadata": {},
   "outputs": [
    {
     "name": "stdout",
     "output_type": "stream",
     "text": [
      "1\n",
      "1\n",
      "2\n",
      "6\n",
      "24\n",
      "0.012216500006616116\n"
     ]
    }
   ],
   "source": [
    "#Multitreading \n",
    "\n",
    "import threading\n",
    "import time\n",
    "\n",
    "def factorial(n):\n",
    "  if n == 0:\n",
    "    return 1\n",
    "  else:\n",
    "    return n * factorial(n - 1)\n",
    "\n",
    "\n",
    "def print_factorial_output(n):\n",
    "  print(factorial(n))\n",
    "\n",
    "\n",
    "def main():\n",
    "#   threads = []\n",
    "  time1=time.perf_counter()\n",
    "    \n",
    "  for i in range(5):\n",
    "    thread = threading.Thread(target=print_factorial_output, args=[i])\n",
    "#     threads.append(thread)\n",
    "    thread.start()\n",
    "    \n",
    "  time2=time.perf_counter()\n",
    "  print(time2-time1)\n",
    "\n",
    "if __name__ == \"__main__\":\n",
    "  main()"
   ]
  },
  {
   "cell_type": "code",
   "execution_count": 59,
   "id": "2ee9aa17",
   "metadata": {},
   "outputs": [
    {
     "name": "stdout",
     "output_type": "stream",
     "text": [
      "Sleeping time is 4 sec\n",
      "Sleeping time is 2 sec\n",
      "Sleeping time is 1 sec\n",
      "0.015045200008898973\n"
     ]
    }
   ],
   "source": [
    "# 2nd example of multithreading\n",
    "import threading\n",
    "import time\n",
    "\n",
    "def lapping(sec):\n",
    "    print(f\"Sleeping time is {sec} sec\")\n",
    "    time.sleep(sec)\n",
    "time1=time.perf_counter()\n",
    "# lapping(4)\n",
    "# lapping(2)\n",
    "# lapping(1)\n",
    "t1=threading.Thread(target=lapping, args=[4])\n",
    "t2=threading.Thread(target=lapping, args=[2])\n",
    "t3=threading.Thread(target=lapping, args=[1])\n",
    "t1.start()\n",
    "t2.start()\n",
    "t3.start()\n",
    "time2=time.perf_counter()\n",
    "print(time2-time1) \n",
    "\n",
    "\n"
   ]
  },
  {
   "cell_type": "code",
   "execution_count": 77,
   "id": "eba60d56",
   "metadata": {},
   "outputs": [
    {
     "name": "stdout",
     "output_type": "stream",
     "text": [
      "Starting download: https://github.com/tensorflow/tensorflow/blob/master/README.md\n",
      "Starting download: https://github.com/tensorflow/tensorflow/blob/master/RELEASE.md\n",
      "Starting download: https://github.com/tensorflow/tensorflow/blob/master/SECURITY.md\n",
      "Finished download: https://github.com/tensorflow/tensorflow/blob/master/README.md\n",
      "Finished download: https://github.com/tensorflow/tensorflow/blob/master/SECURITY.md\n",
      "Finished download: https://github.com/tensorflow/tensorflow/blob/master/RELEASE.md\n",
      "Downloaded 3 files in 1.6701526641845703 seconds\n"
     ]
    }
   ],
   "source": [
    "#3rd example of multithreading   \n",
    "import threading\n",
    "import urllib.request\n",
    "import time\n",
    "\n",
    "# URLs to download\n",
    "urls = [\n",
    "    \"https://github.com/tensorflow/tensorflow/blob/master/README.md\",\n",
    "    \"https://github.com/tensorflow/tensorflow/blob/master/RELEASE.md\",\n",
    "    \"https://github.com/tensorflow/tensorflow/blob/master/SECURITY.md\",\n",
    "]\n",
    "\n",
    "\n",
    "def download_file(url):\n",
    "  print(f\"Starting download: {url}\")\n",
    "  urllib.request.urlretrieve(url, f\"{url.split('/')[-1]}\")\n",
    "  print(f\"Finished download: {url}\")\n",
    "\n",
    "\n",
    "start = time.time()\n",
    "threads = []\n",
    "\n",
    "for url in urls:\n",
    "  thread = threading.Thread(target=download_file, args=(url,))\n",
    "  thread.start()\n",
    "  threads.append(thread)\n",
    "\n",
    "for thread in threads:\n",
    "  thread.join()\n",
    "\n",
    "end = time.time()\n",
    "print(f\"Downloaded {len(urls)} files in {end-start} seconds\")\n",
    "    \n",
    "    \n",
    "\n",
    "\n",
    "\n"
   ]
  },
  {
   "cell_type": "code",
   "execution_count": 76,
   "id": "97907ed8",
   "metadata": {},
   "outputs": [
    {
     "name": "stdout",
     "output_type": "stream",
     "text": [
      "Starting download: https://github.com/tensorflow/tensorflow/blob/master/README.md\n",
      "Starting download: https://github.com/tensorflow/tensorflow/blob/master/RELEASE.md\n",
      "Starting download: https://github.com/tensorflow/tensorflow/blob/master/SECURITY.md\n",
      "Finished download: https://github.com/tensorflow/tensorflow/blob/master/README.md\n",
      "Finished download: https://github.com/tensorflow/tensorflow/blob/master/SECURITY.md\n",
      "Finished download: https://github.com/tensorflow/tensorflow/blob/master/RELEASE.md\n",
      "Downloaded 3 files in 1.4770402908325195 seconds\n"
     ]
    }
   ],
   "source": [
    "import threading\n",
    "import urllib.request\n",
    "import time\n",
    "\n",
    "# URLs to download\n",
    "urls = [\n",
    "    \"https://github.com/tensorflow/tensorflow/blob/master/README.md\",\n",
    "    \"https://github.com/tensorflow/tensorflow/blob/master/RELEASE.md\",\n",
    "    \"https://github.com/tensorflow/tensorflow/blob/master/SECURITY.md\",\n",
    "]\n",
    "\n",
    "\n",
    "def download_file(url):\n",
    "  print(f\"Starting download: {url}\")\n",
    "  urllib.request.urlretrieve(url, f\"{url.split('/')[-1]}\")\n",
    "  print(f\"Finished download: {url}\")\n",
    "\n",
    "\n",
    "start = time.time()\n",
    "threads = []\n",
    "\n",
    "for url in urls:\n",
    "  thread = threading.Thread(target=download_file, args=(url,))\n",
    "  thread.start()\n",
    "  threads.append(thread)\n",
    "\n",
    "for thread in threads:\n",
    "  thread.join()\n",
    "\n",
    "end = time.time()\n",
    "print(f\"Downloaded {len(urls)} files in {end-start} seconds\")"
   ]
  },
  {
   "cell_type": "code",
   "execution_count": 78,
   "id": "56c3e56a",
   "metadata": {},
   "outputs": [],
   "source": [
    "#Multiprocessing\n"
   ]
  },
  {
   "cell_type": "code",
   "execution_count": 107,
   "id": "d490b4a7",
   "metadata": {},
   "outputs": [
    {
     "name": "stdout",
     "output_type": "stream",
     "text": [
      "(array([0, 2], dtype=int64),)\n"
     ]
    }
   ],
   "source": [
    "#numpy\n",
    "\n",
    "import numpy as np\n",
    "# print(np.__version__)\n",
    "arr=np.array([\"Anurag\"])\n",
    "arr1=np.array((2,7,4,3))\n",
    "# print(arr,type(arr))\n",
    "# a = np.array(42)\n",
    "# b = np.array([1, 2, 3, 4, 5])\n",
    "c = np.array([[1, 2, 3], [4, 5, 6]])\n",
    "# d = np.array([[[1, 2, 3], [4, 5, 6]], [[1, 2, 3], [4, 5, 6]]])\n",
    "arr2=np.array([8,9,0,9,7,6],ndmin=5)\n",
    "# print(arr.dtype)\n",
    "x=np.where(arr1%2==0)\n",
    "# print(x)\n",
    "\n",
    "##find the index where the value 7 will be inserted.\n",
    "arr2=np.array([])"
   ]
  },
  {
   "cell_type": "code",
   "execution_count": 5,
   "id": "40e8dd59",
   "metadata": {},
   "outputs": [
    {
     "name": "stdout",
     "output_type": "stream",
     "text": [
      "2.0.3\n",
      "B    8\n",
      "A    9\n",
      "C    7\n",
      "dtype: int64\n",
      "day1    1000\n",
      "day2    2000\n",
      "day3    3000\n",
      "dtype: int64\n"
     ]
    }
   ],
   "source": [
    "# pandas\n",
    "import pandas as pd\n",
    "print(pd.__version__)\n",
    "a=[8,9,7]\n",
    "myvar=pd.Series(a,index=[\"B\",\"A\",\"C\"])\n",
    "print(myvar)\n",
    "#key value object as Series\n",
    "calories={\n",
    "    \"day1\":1000,\n",
    "    \"day2\":2000,\n",
    "    \"day3\":3000\n",
    "}\n",
    "myvar=pd.Series(calories)\n",
    "print(myvar)"
   ]
  },
  {
   "cell_type": "code",
   "execution_count": 26,
   "id": "2f4c0831",
   "metadata": {},
   "outputs": [
    {
     "data": {
      "text/html": [
       "<div>\n",
       "<style scoped>\n",
       "    .dataframe tbody tr th:only-of-type {\n",
       "        vertical-align: middle;\n",
       "    }\n",
       "\n",
       "    .dataframe tbody tr th {\n",
       "        vertical-align: top;\n",
       "    }\n",
       "\n",
       "    .dataframe thead th {\n",
       "        text-align: right;\n",
       "    }\n",
       "</style>\n",
       "<table border=\"1\" class=\"dataframe\">\n",
       "  <thead>\n",
       "    <tr style=\"text-align: right;\">\n",
       "      <th></th>\n",
       "      <th>1</th>\n",
       "      <th>Eldon Base for stackable storage shelf, platinum</th>\n",
       "      <th>Muhammed MacIntyre</th>\n",
       "      <th>3</th>\n",
       "      <th>-213.25</th>\n",
       "      <th>38.94</th>\n",
       "      <th>35</th>\n",
       "      <th>Nunavut</th>\n",
       "      <th>Storage &amp; Organization</th>\n",
       "      <th>0.8</th>\n",
       "    </tr>\n",
       "  </thead>\n",
       "  <tbody>\n",
       "    <tr>\n",
       "      <th>0</th>\n",
       "      <td>2</td>\n",
       "      <td>1.7 Cubic Foot Compact \"Cube\" Office Refrigera...</td>\n",
       "      <td>Barry French</td>\n",
       "      <td>293</td>\n",
       "      <td>457.81</td>\n",
       "      <td>208.16</td>\n",
       "      <td>68.02</td>\n",
       "      <td>Nunavut</td>\n",
       "      <td>Appliances</td>\n",
       "      <td>0.58</td>\n",
       "    </tr>\n",
       "    <tr>\n",
       "      <th>1</th>\n",
       "      <td>3</td>\n",
       "      <td>Cardinal Slant-D® Ring Binder, Heavy Gauge Vinyl</td>\n",
       "      <td>Barry French</td>\n",
       "      <td>293</td>\n",
       "      <td>46.71</td>\n",
       "      <td>8.69</td>\n",
       "      <td>2.99</td>\n",
       "      <td>Nunavut</td>\n",
       "      <td>Binders and Binder Accessories</td>\n",
       "      <td>0.39</td>\n",
       "    </tr>\n",
       "    <tr>\n",
       "      <th>2</th>\n",
       "      <td>4</td>\n",
       "      <td>R380</td>\n",
       "      <td>Clay Rozendal</td>\n",
       "      <td>483</td>\n",
       "      <td>1198.97</td>\n",
       "      <td>195.99</td>\n",
       "      <td>3.99</td>\n",
       "      <td>Nunavut</td>\n",
       "      <td>Telephones and Communication</td>\n",
       "      <td>0.58</td>\n",
       "    </tr>\n",
       "    <tr>\n",
       "      <th>3</th>\n",
       "      <td>5</td>\n",
       "      <td>Holmes HEPA Air Purifier</td>\n",
       "      <td>Carlos Soltero</td>\n",
       "      <td>515</td>\n",
       "      <td>30.94</td>\n",
       "      <td>21.78</td>\n",
       "      <td>5.94</td>\n",
       "      <td>Nunavut</td>\n",
       "      <td>Appliances</td>\n",
       "      <td>0.50</td>\n",
       "    </tr>\n",
       "    <tr>\n",
       "      <th>4</th>\n",
       "      <td>6</td>\n",
       "      <td>G.E. Longer-Life Indoor Recessed Floodlight Bulbs</td>\n",
       "      <td>Carlos Soltero</td>\n",
       "      <td>515</td>\n",
       "      <td>4.43</td>\n",
       "      <td>6.64</td>\n",
       "      <td>4.95</td>\n",
       "      <td>Nunavut</td>\n",
       "      <td>Office Furnishings</td>\n",
       "      <td>0.37</td>\n",
       "    </tr>\n",
       "  </tbody>\n",
       "</table>\n",
       "</div>"
      ],
      "text/plain": [
       "   1   Eldon Base for stackable storage shelf, platinum Muhammed MacIntyre  \\\n",
       "0  2  1.7 Cubic Foot Compact \"Cube\" Office Refrigera...       Barry French   \n",
       "1  3   Cardinal Slant-D® Ring Binder, Heavy Gauge Vinyl       Barry French   \n",
       "2  4                                               R380      Clay Rozendal   \n",
       "3  5                           Holmes HEPA Air Purifier     Carlos Soltero   \n",
       "4  6  G.E. Longer-Life Indoor Recessed Floodlight Bulbs     Carlos Soltero   \n",
       "\n",
       "     3  -213.25   38.94     35  Nunavut          Storage & Organization   0.8  \n",
       "0  293   457.81  208.16  68.02  Nunavut                      Appliances  0.58  \n",
       "1  293    46.71    8.69   2.99  Nunavut  Binders and Binder Accessories  0.39  \n",
       "2  483  1198.97  195.99   3.99  Nunavut    Telephones and Communication  0.58  \n",
       "3  515    30.94   21.78   5.94  Nunavut                      Appliances  0.50  \n",
       "4  515     4.43    6.64   4.95  Nunavut              Office Furnishings  0.37  "
      ]
     },
     "execution_count": 26,
     "metadata": {},
     "output_type": "execute_result"
    }
   ],
   "source": [
    "data={\n",
    "    \"calories\":[420,400,890,800],\n",
    "    \"duration\":[10,20,40,60]\n",
    "}\n",
    "df=pd.DataFrame(data,index=[\"day1\",\"day2\",\"day3\",\"day4\"])\n",
    "# print(df)\n",
    "# print(df.loc[[\"day1\",\"day3\",\"day4\"]])\n",
    "# print(df.loc[\"day2\"])\n",
    "#csv read\n",
    "csv_path=r\"C:\\Users\\anurag.kumar\\OneDrive - Subex Limited\\Downloads\"\n",
    "csv_df = pd.read_csv('data.csv', encoding='iso-8859-1')\n",
    "# print(csv_df)\n",
    "csv_df.head()\n",
    "\n",
    "# print(pd.options.display.max_rows) "
   ]
  },
  {
   "cell_type": "code",
   "execution_count": 19,
   "id": "15ee87f7",
   "metadata": {},
   "outputs": [
    {
     "name": "stdout",
     "output_type": "stream",
     "text": [
      "   Duration  Pulse  Maxpulse  Calories\n",
      "0        60    110       130     409.1\n",
      "1        60    117       145     479.0\n",
      "2        60    103       135     340.0\n",
      "3        45    109       175     282.4\n",
      "4        45    117       148     406.0\n",
      "     Duration  Pulse  Maxpulse  Calories\n",
      "168        75    125       150     330.4\n",
      "<class 'pandas.core.frame.DataFrame'>\n",
      "Index: 169 entries, 0 to 168\n",
      "Data columns (total 4 columns):\n",
      " #   Column    Non-Null Count  Dtype  \n",
      "---  ------    --------------  -----  \n",
      " 0   Duration  169 non-null    int64  \n",
      " 1   Pulse     169 non-null    int64  \n",
      " 2   Maxpulse  169 non-null    int64  \n",
      " 3   Calories  164 non-null    float64\n",
      "dtypes: float64(1), int64(3)\n",
      "memory usage: 6.6 KB\n",
      "None\n"
     ]
    }
   ],
   "source": [
    "#Reading json data using pandas\n",
    "json_df=pd.read_json(\"data.json\")\n",
    "print(json_df.head())\n",
    "print(json_df.tail(1))\n",
    "print(json_df.info())"
   ]
  },
  {
   "cell_type": "code",
   "execution_count": 57,
   "id": "f7b564ad",
   "metadata": {},
   "outputs": [
    {
     "name": "stdout",
     "output_type": "stream",
     "text": [
      "300.0\n"
     ]
    }
   ],
   "source": [
    "#Cleaning data\n",
    "csv_data=pd.read_csv('data1.csv',encoding='iso-8859-1')\n",
    "# csv_data.head()\n",
    "# print(csv_data.info())\n",
    "# new_df=csv_data.dropna() bydefault dropna() return new dataframe , if we use implace=true then it will modify existing one\n",
    "# print(new_df)\n",
    "#csv_data.dropna(inplace=True) #not returning any new dataframe\n",
    "# print(csv_data.head(20))\n",
    "'''filling value instead of removing cell from database'''\n",
    "# csv_data.fillna(2223,inplace=True)\n",
    "'''Replace Only For Specified Columns'''\n",
    "# csv_data['Calories'].fillna(2223,inplace=True)\n",
    "'''Replace Using Mean, Median, or Mode'''\n",
    "mean=csv_data['Calories'].mean()\n",
    "mode=csv_data['Calories'].mode()[0]\n",
    "print(mode)\n",
    "# print(mean)\n",
    "# csv_data.fillna(mode,inplace=True)\n",
    "# print(csv_data)"
   ]
  },
  {
   "cell_type": "code",
   "execution_count": 63,
   "id": "019afa78",
   "metadata": {},
   "outputs": [],
   "source": [
    "csv_data['Date'] = pd.to_datetime(csv_data['Date'], format='mixed')"
   ]
  },
  {
   "cell_type": "code",
   "execution_count": 65,
   "id": "13356991",
   "metadata": {},
   "outputs": [],
   "source": [
    "# csv_data['Date'] = pd.to_datetime(str(csv_data['Date']))"
   ]
  },
  {
   "cell_type": "code",
   "execution_count": 64,
   "id": "973bb90f",
   "metadata": {},
   "outputs": [
    {
     "name": "stdout",
     "output_type": "stream",
     "text": [
      "    Duration       Date  Pulse  Maxpulse  Calories\n",
      "0         60 2020-12-01    110       130     409.1\n",
      "1         60 2020-12-02    117       145     479.0\n",
      "2         60 2020-12-03    103       135     340.0\n",
      "3         45 2020-12-04    109       175     282.4\n",
      "4         45 2020-12-05    117       148     406.0\n",
      "5         60 2020-12-06    102       127     300.0\n",
      "6         60 2020-12-07    110       136     374.0\n",
      "7        450 2020-12-08    104       134     253.3\n",
      "8         30 2020-12-09    109       133     195.1\n",
      "9         60 2020-12-10     98       124     269.0\n",
      "10        60 2020-12-11    103       147     329.3\n",
      "11        60 2020-12-12    100       120     250.7\n",
      "12        60 2020-12-12    100       120     250.7\n",
      "13        60 2020-12-13    106       128     345.3\n",
      "14        60 2020-12-14    104       132     379.3\n",
      "15        60 2020-12-15     98       123     275.0\n",
      "16        60 2020-12-16     98       120     215.2\n",
      "17        60 2020-12-17    100       120     300.0\n",
      "18        45 2020-12-18     90       112       NaN\n",
      "19        60 2020-12-19    103       123     323.0\n",
      "20        45 2020-12-20     97       125     243.0\n",
      "21        60 2020-12-21    108       131     364.2\n",
      "22        45        NaT    100       119     282.0\n",
      "23        60 2020-12-23    130       101     300.0\n",
      "24        45 2020-12-24    105       132     246.0\n",
      "25        60 2020-12-25    102       126     334.5\n",
      "26        60 2020-12-26    100       120     250.0\n",
      "27        60 2020-12-27     92       118     241.0\n",
      "28        60 2020-12-28    103       132       NaN\n",
      "29        60 2020-12-29    100       132     280.0\n",
      "30        60 2020-12-30    102       129     380.3\n",
      "31        60 2020-12-31     92       115     243.0\n"
     ]
    }
   ],
   "source": [
    "print(csv_data)"
   ]
  },
  {
   "cell_type": "code",
   "execution_count": 58,
   "id": "851ebca7",
   "metadata": {},
   "outputs": [
    {
     "ename": "ValueError",
     "evalue": "time data \"20201226\" doesn't match format \"'%Y/%m/%d'\", at position 26. You might want to try:\n    - passing `format` if your strings have a consistent format;\n    - passing `format='ISO8601'` if your strings are all ISO8601 but not necessarily in exactly the same format;\n    - passing `format='mixed'`, and the format will be inferred for each element individually. You might want to use `dayfirst` alongside this.",
     "output_type": "error",
     "traceback": [
      "\u001b[1;31m---------------------------------------------------------------------------\u001b[0m",
      "\u001b[1;31mValueError\u001b[0m                                Traceback (most recent call last)",
      "Cell \u001b[1;32mIn[58], line 3\u001b[0m\n\u001b[0;32m      1\u001b[0m \u001b[38;5;66;03m#Cleaning wrong format\u001b[39;00m\n\u001b[0;32m      2\u001b[0m \u001b[38;5;124;03m'''Cleaning wrong format'''\u001b[39;00m\n\u001b[1;32m----> 3\u001b[0m csv_data[\u001b[38;5;124m'\u001b[39m\u001b[38;5;124mDate\u001b[39m\u001b[38;5;124m'\u001b[39m]\u001b[38;5;241m=\u001b[39mpd\u001b[38;5;241m.\u001b[39mto_datetime(csv_data[\u001b[38;5;124m'\u001b[39m\u001b[38;5;124mDate\u001b[39m\u001b[38;5;124m'\u001b[39m])\n\u001b[0;32m      4\u001b[0m \u001b[38;5;28mprint\u001b[39m(csv_data\u001b[38;5;241m.\u001b[39mhead(\u001b[38;5;241m32\u001b[39m))\n",
      "File \u001b[1;32m~\\AppData\\Local\\anaconda3\\Lib\\site-packages\\pandas\\core\\tools\\datetimes.py:1050\u001b[0m, in \u001b[0;36mto_datetime\u001b[1;34m(arg, errors, dayfirst, yearfirst, utc, format, exact, unit, infer_datetime_format, origin, cache)\u001b[0m\n\u001b[0;32m   1048\u001b[0m         result \u001b[38;5;241m=\u001b[39m arg\u001b[38;5;241m.\u001b[39mmap(cache_array)\n\u001b[0;32m   1049\u001b[0m     \u001b[38;5;28;01melse\u001b[39;00m:\n\u001b[1;32m-> 1050\u001b[0m         values \u001b[38;5;241m=\u001b[39m convert_listlike(arg\u001b[38;5;241m.\u001b[39m_values, \u001b[38;5;28mformat\u001b[39m)\n\u001b[0;32m   1051\u001b[0m         result \u001b[38;5;241m=\u001b[39m arg\u001b[38;5;241m.\u001b[39m_constructor(values, index\u001b[38;5;241m=\u001b[39marg\u001b[38;5;241m.\u001b[39mindex, name\u001b[38;5;241m=\u001b[39marg\u001b[38;5;241m.\u001b[39mname)\n\u001b[0;32m   1052\u001b[0m \u001b[38;5;28;01melif\u001b[39;00m \u001b[38;5;28misinstance\u001b[39m(arg, (ABCDataFrame, abc\u001b[38;5;241m.\u001b[39mMutableMapping)):\n",
      "File \u001b[1;32m~\\AppData\\Local\\anaconda3\\Lib\\site-packages\\pandas\\core\\tools\\datetimes.py:453\u001b[0m, in \u001b[0;36m_convert_listlike_datetimes\u001b[1;34m(arg, format, name, utc, unit, errors, dayfirst, yearfirst, exact)\u001b[0m\n\u001b[0;32m    451\u001b[0m \u001b[38;5;66;03m# `format` could be inferred, or user didn't ask for mixed-format parsing.\u001b[39;00m\n\u001b[0;32m    452\u001b[0m \u001b[38;5;28;01mif\u001b[39;00m \u001b[38;5;28mformat\u001b[39m \u001b[38;5;129;01mis\u001b[39;00m \u001b[38;5;129;01mnot\u001b[39;00m \u001b[38;5;28;01mNone\u001b[39;00m \u001b[38;5;129;01mand\u001b[39;00m \u001b[38;5;28mformat\u001b[39m \u001b[38;5;241m!=\u001b[39m \u001b[38;5;124m\"\u001b[39m\u001b[38;5;124mmixed\u001b[39m\u001b[38;5;124m\"\u001b[39m:\n\u001b[1;32m--> 453\u001b[0m     \u001b[38;5;28;01mreturn\u001b[39;00m _array_strptime_with_fallback(arg, name, utc, \u001b[38;5;28mformat\u001b[39m, exact, errors)\n\u001b[0;32m    455\u001b[0m result, tz_parsed \u001b[38;5;241m=\u001b[39m objects_to_datetime64ns(\n\u001b[0;32m    456\u001b[0m     arg,\n\u001b[0;32m    457\u001b[0m     dayfirst\u001b[38;5;241m=\u001b[39mdayfirst,\n\u001b[1;32m   (...)\u001b[0m\n\u001b[0;32m    461\u001b[0m     allow_object\u001b[38;5;241m=\u001b[39m\u001b[38;5;28;01mTrue\u001b[39;00m,\n\u001b[0;32m    462\u001b[0m )\n\u001b[0;32m    464\u001b[0m \u001b[38;5;28;01mif\u001b[39;00m tz_parsed \u001b[38;5;129;01mis\u001b[39;00m \u001b[38;5;129;01mnot\u001b[39;00m \u001b[38;5;28;01mNone\u001b[39;00m:\n\u001b[0;32m    465\u001b[0m     \u001b[38;5;66;03m# We can take a shortcut since the datetime64 numpy array\u001b[39;00m\n\u001b[0;32m    466\u001b[0m     \u001b[38;5;66;03m# is in UTC\u001b[39;00m\n",
      "File \u001b[1;32m~\\AppData\\Local\\anaconda3\\Lib\\site-packages\\pandas\\core\\tools\\datetimes.py:484\u001b[0m, in \u001b[0;36m_array_strptime_with_fallback\u001b[1;34m(arg, name, utc, fmt, exact, errors)\u001b[0m\n\u001b[0;32m    473\u001b[0m \u001b[38;5;28;01mdef\u001b[39;00m \u001b[38;5;21m_array_strptime_with_fallback\u001b[39m(\n\u001b[0;32m    474\u001b[0m     arg,\n\u001b[0;32m    475\u001b[0m     name,\n\u001b[1;32m   (...)\u001b[0m\n\u001b[0;32m    479\u001b[0m     errors: \u001b[38;5;28mstr\u001b[39m,\n\u001b[0;32m    480\u001b[0m ) \u001b[38;5;241m-\u001b[39m\u001b[38;5;241m>\u001b[39m Index:\n\u001b[0;32m    481\u001b[0m \u001b[38;5;250m    \u001b[39m\u001b[38;5;124;03m\"\"\"\u001b[39;00m\n\u001b[0;32m    482\u001b[0m \u001b[38;5;124;03m    Call array_strptime, with fallback behavior depending on 'errors'.\u001b[39;00m\n\u001b[0;32m    483\u001b[0m \u001b[38;5;124;03m    \"\"\"\u001b[39;00m\n\u001b[1;32m--> 484\u001b[0m     result, timezones \u001b[38;5;241m=\u001b[39m array_strptime(arg, fmt, exact\u001b[38;5;241m=\u001b[39mexact, errors\u001b[38;5;241m=\u001b[39merrors, utc\u001b[38;5;241m=\u001b[39mutc)\n\u001b[0;32m    485\u001b[0m     \u001b[38;5;28;01mif\u001b[39;00m \u001b[38;5;28many\u001b[39m(tz \u001b[38;5;129;01mis\u001b[39;00m \u001b[38;5;129;01mnot\u001b[39;00m \u001b[38;5;28;01mNone\u001b[39;00m \u001b[38;5;28;01mfor\u001b[39;00m tz \u001b[38;5;129;01min\u001b[39;00m timezones):\n\u001b[0;32m    486\u001b[0m         \u001b[38;5;28;01mreturn\u001b[39;00m _return_parsed_timezone_results(result, timezones, utc, name)\n",
      "File \u001b[1;32m~\\AppData\\Local\\anaconda3\\Lib\\site-packages\\pandas\\_libs\\tslibs\\strptime.pyx:530\u001b[0m, in \u001b[0;36mpandas._libs.tslibs.strptime.array_strptime\u001b[1;34m()\u001b[0m\n",
      "File \u001b[1;32m~\\AppData\\Local\\anaconda3\\Lib\\site-packages\\pandas\\_libs\\tslibs\\strptime.pyx:351\u001b[0m, in \u001b[0;36mpandas._libs.tslibs.strptime.array_strptime\u001b[1;34m()\u001b[0m\n",
      "\u001b[1;31mValueError\u001b[0m: time data \"20201226\" doesn't match format \"'%Y/%m/%d'\", at position 26. You might want to try:\n    - passing `format` if your strings have a consistent format;\n    - passing `format='ISO8601'` if your strings are all ISO8601 but not necessarily in exactly the same format;\n    - passing `format='mixed'`, and the format will be inferred for each element individually. You might want to use `dayfirst` alongside this."
     ]
    }
   ],
   "source": [
    "#Cleaning wrong format\n",
    "'''Cleaning wrong format'''\n",
    "csv_data['Date'] = pd.to_datetime(csv_data['Date'])\n",
    "print(csv_data.head(32))\n",
    "\n",
    "\n"
   ]
  },
  {
   "cell_type": "code",
   "execution_count": null,
   "id": "eaa3547b",
   "metadata": {},
   "outputs": [],
   "source": []
  },
  {
   "cell_type": "code",
   "execution_count": 14,
   "id": "cf442451",
   "metadata": {},
   "outputs": [
    {
     "name": "stdout",
     "output_type": "stream",
     "text": [
      "[2, 3, 5, 6, 8, 9]\n"
     ]
    }
   ],
   "source": [
    "## sorting a vector using recurrsion\n",
    "arr=[2,3,9,8,6,5]\n",
    "def sorting(arr):\n",
    "    if(len(arr)==1):\n",
    "        return\n",
    "    last=arr[-1]\n",
    "    arr.pop()\n",
    "    sorting(arr)\n",
    "    insert(arr,last);\n",
    "    return\n",
    "def insert(arr,num):\n",
    "    if(len(arr)==0 or arr[-1]<=num):\n",
    "        arr.append(num)\n",
    "        return \n",
    "    num2=arr[-1]\n",
    "    arr.pop()\n",
    "    insert(arr,num)\n",
    "    arr.append(num2)\n",
    "sorting(arr)\n",
    "print(arr)"
   ]
  },
  {
   "cell_type": "code",
   "execution_count": 25,
   "id": "be591fd2",
   "metadata": {},
   "outputs": [
    {
     "name": "stdout",
     "output_type": "stream",
     "text": [
      "[1, 2, 3, 4, 9]\n"
     ]
    }
   ],
   "source": [
    "# sorting a stack using recurrion \n",
    "\n",
    "stack=[]\n",
    "stack.append(9)\n",
    "stack.append(3)\n",
    "stack.append(2)\n",
    "stack.append(4)\n",
    "stack.append(1)\n",
    "def sortStack(stack):\n",
    "    if(len(stack)==1):\n",
    "        return \n",
    "    last=stack.pop()\n",
    "    sortStack(stack)\n",
    "    insert(stack,last)\n",
    "    return\n",
    "def insert(stack,num):\n",
    "    if( not stack or stack[-1]<=num):\n",
    "        stack.append(num)\n",
    "        return \n",
    "    num2=stack.pop()\n",
    "    insert(stack,num)\n",
    "    stack.append(num2)\n",
    "sortStack(stack)\n",
    "print(stack)\n"
   ]
  }
 ],
 "metadata": {
  "kernelspec": {
   "display_name": "Python 3 (ipykernel)",
   "language": "python",
   "name": "python3"
  },
  "language_info": {
   "codemirror_mode": {
    "name": "ipython",
    "version": 3
   },
   "file_extension": ".py",
   "mimetype": "text/x-python",
   "name": "python",
   "nbconvert_exporter": "python",
   "pygments_lexer": "ipython3",
   "version": "3.11.5"
  }
 },
 "nbformat": 4,
 "nbformat_minor": 5
}
